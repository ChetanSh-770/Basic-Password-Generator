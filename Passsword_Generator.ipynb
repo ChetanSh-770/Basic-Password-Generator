{
 "cells": [
  {
   "cell_type": "code",
   "execution_count": 5,
   "id": "8877bd36",
   "metadata": {},
   "outputs": [
    {
     "name": "stdout",
     "output_type": "stream",
     "text": [
      "Welcome to the PyPassword Generator!\n",
      "\n",
      "How many letters would you like in your password?\n",
      "5\n",
      "How many symbols would you like?\n",
      "4\n",
      "How many numbers would you like?\n",
      "3\n",
      "Press 0 for easy password and 1 for hard password :\n",
      "1\n",
      "Password is : k(&l#b279ms&\n"
     ]
    }
   ],
   "source": [
    "#Password Generator Project\n",
    "import random\n",
    "letters = ['a', 'b', 'c', 'd', 'e', 'f', 'g', 'h', 'i', 'j', 'k', 'l', 'm', 'n', 'o', 'p', 'q', 'r', 's', 't', 'u', 'v', 'w', 'x', 'y', 'z', 'A', 'B', 'C', 'D', 'E', 'F', 'G', 'H', 'I', 'J', 'K', 'L', 'M', 'N', 'O', 'P', 'Q', 'R', 'S', 'T', 'U', 'V', 'W', 'X', 'Y', 'Z']\n",
    "numbers = ['0', '1', '2', '3', '4', '5', '6', '7', '8', '9']\n",
    "symbols = ['!', '#', '$', '%', '&', '(', ')', '*', '+']\n",
    "\n",
    "print(\"Welcome to the PyPassword Generator!\\n\")\n",
    "nr_letters= int(input(\"How many letters would you like in your password?\\n\")) \n",
    "nr_symbols = int(input(f\"How many symbols would you like?\\n\"))\n",
    "nr_numbers = int(input(f\"How many numbers would you like?\\n\"))\n",
    "a=int(input(\"Press 0 for easy password and 1 for hard password :\\n\"))\n",
    "if a==0:\n",
    "    password = \"\"\n",
    "    for i in range(1,nr_letters+1):\n",
    "        password+=random.choice(letters)\n",
    "    for i in range(1,nr_symbols+1):\n",
    "        password+=random.choice(symbols)\n",
    "    for i in range(1,nr_numbers+1):\n",
    "        password+=random.choice(numbers)\n",
    "    print(f\"Password is : {password}\")\n",
    "\n",
    "elif a==1:\n",
    "    password = []\n",
    "    for i in range(1,nr_letters+1):\n",
    "        password+=random.choice(letters)\n",
    "    for i in range(1,nr_symbols+1):\n",
    "        password+=random.choice(symbols)\n",
    "    for i in range(1,nr_numbers+1):\n",
    "        password+=random.choice(numbers)\n",
    "    random.shuffle(password)\n",
    "    Password=''.join(password)\n",
    "    print(f\"Password is : {Password}\")\n",
    "\n",
    "else:\n",
    "    print(\"INVALID INPUT\")\n",
    "    "
   ]
  }
 ],
 "metadata": {
  "kernelspec": {
   "display_name": "Python 3 (ipykernel)",
   "language": "python",
   "name": "python3"
  },
  "language_info": {
   "codemirror_mode": {
    "name": "ipython",
    "version": 3
   },
   "file_extension": ".py",
   "mimetype": "text/x-python",
   "name": "python",
   "nbconvert_exporter": "python",
   "pygments_lexer": "ipython3",
   "version": "3.9.13"
  }
 },
 "nbformat": 4,
 "nbformat_minor": 5
}
